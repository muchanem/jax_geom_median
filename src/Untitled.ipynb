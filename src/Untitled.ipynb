{
 "cells": [
  {
   "cell_type": "code",
   "execution_count": 1,
   "id": "047176f5-655c-4b29-b3ce-0df0805ddea2",
   "metadata": {},
   "outputs": [],
   "source": [
    "import jax.numpy as jnp\n",
    "import jax\n",
    "from jax.sharding import Mesh, PartitionSpec, NamedSharding\n",
    "from jax.experimental import mesh_utils\n",
    "import treescope\n",
    "treescope.basic_interactive_setup(autovisualize_arrays=True)\n",
    "import numpy as np\n",
    "from geom_median.jax_impl import compute_geometric_median"
   ]
  },
  {
   "cell_type": "code",
   "execution_count": 2,
   "id": "83fda0cb-6837-4af5-ab7b-9f0e4bee4a37",
   "metadata": {},
   "outputs": [],
   "source": [
    "x = np.load(\"/net/scratch/muchane/1pp_sample.npy\")"
   ]
  },
  {
   "cell_type": "code",
   "execution_count": 3,
   "id": "25a85519-8581-4d9a-b173-f4dc0b14b826",
   "metadata": {},
   "outputs": [],
   "source": [
    "P = PartitionSpec\n",
    "\n",
    "devices = mesh_utils.create_device_mesh((4, 2))\n",
    "mesh = Mesh(devices, axis_names=('a', 'b'))\n",
    "y = jax.device_put(x, NamedSharding(mesh, P('a', 'b')))"
   ]
  },
  {
   "cell_type": "code",
   "execution_count": null,
   "id": "648158a6-408e-40b1-8850-3ddc9923ff8f",
   "metadata": {},
   "outputs": [
    {
     "name": "stderr",
     "output_type": "stream",
     "text": [
      "2024-08-16 23:30:30.182206: W external/xla/xla/service/hlo_rematerialization.cc:3005] Can't reduce memory use below 61.38GiB (65901718958 bytes) by rematerialization; only reduced to 95.18GiB (102197629456 bytes), down from 95.18GiB (102197629456 bytes) originally\n"
     ]
    }
   ],
   "source": [
    "points = [y[i] for i in range(y.shape[0])]"
   ]
  },
  {
   "cell_type": "code",
   "execution_count": 1,
   "id": "9e8e5040-53dc-4f08-a5e2-54a71bbe9dd3",
   "metadata": {},
   "outputs": [
    {
     "ename": "NameError",
     "evalue": "name 'points' is not defined",
     "output_type": "error",
     "traceback": [
      "\u001b[0;31m---------------------------------------------------------------------------\u001b[0m",
      "\u001b[0;31mNameError\u001b[0m                                 Traceback (most recent call last)",
      "Cell \u001b[0;32mIn[1], line 1\u001b[0m\n\u001b[0;32m----> 1\u001b[0m \u001b[43mpoints\u001b[49m[\u001b[38;5;241m0\u001b[39m]\n",
      "\u001b[0;31mNameError\u001b[0m: name 'points' is not defined"
     ]
    }
   ],
   "source": [
    "points[0]"
   ]
  },
  {
   "cell_type": "code",
   "execution_count": null,
   "id": "774b1dec-3048-4ec7-b012-8d832238fe7f",
   "metadata": {},
   "outputs": [],
   "source": []
  }
 ],
 "metadata": {
  "kernelspec": {
   "display_name": "Python 3 (ipykernel)",
   "language": "python",
   "name": "python3"
  },
  "language_info": {
   "codemirror_mode": {
    "name": "ipython",
    "version": 3
   },
   "file_extension": ".py",
   "mimetype": "text/x-python",
   "name": "python",
   "nbconvert_exporter": "python",
   "pygments_lexer": "ipython3",
   "version": "3.11.9"
  }
 },
 "nbformat": 4,
 "nbformat_minor": 5
}
